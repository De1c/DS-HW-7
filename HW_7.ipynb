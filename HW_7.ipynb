{
 "cells": [
  {
   "cell_type": "code",
   "execution_count": 1,
   "id": "fce67787-6f68-420f-8001-37795f754986",
   "metadata": {},
   "outputs": [],
   "source": [
    "!pip install scikit-surprise >> None"
   ]
  },
  {
   "cell_type": "code",
   "execution_count": 4,
   "id": "dcfa1e7a-6156-4885-b028-ef2095169e58",
   "metadata": {},
   "outputs": [],
   "source": [
    "import warnings\n",
    "warnings.simplefilter(action='ignore', category=[FutureWarning, UserWarning])\n",
    "\n",
    "import pandas as pd\n",
    "import numpy as np\n",
    "from surprise import SVD\n",
    "from surprise import Dataset\n",
    "from surprise.model_selection import cross_validate\n",
    "import matplotlib.pyplot as plt\n",
    "import seaborn as sns"
   ]
  },
  {
   "cell_type": "code",
   "execution_count": 7,
   "id": "1fa69392-38fd-4cd1-beb7-b3baa6460b5d",
   "metadata": {},
   "outputs": [
    {
     "name": "stdout",
     "output_type": "stream",
     "text": [
      "Evaluating RMSE, MAE of algorithm SVD on 5 split(s).\n",
      "\n",
      "                  Fold 1  Fold 2  Fold 3  Fold 4  Fold 5  Mean    Std     \n",
      "RMSE (testset)    0.9349  0.9356  0.9369  0.9382  0.9346  0.9360  0.0013  \n",
      "MAE (testset)     0.7379  0.7359  0.7368  0.7402  0.7359  0.7373  0.0016  \n",
      "Fit time          0.61    0.69    0.63    0.57    0.57    0.61    0.05    \n",
      "Test time         0.09    0.10    0.17    0.09    0.09    0.11    0.03    \n"
     ]
    },
    {
     "data": {
      "text/plain": [
       "{'test_rmse': array([0.93491371, 0.93556514, 0.93694589, 0.93818751, 0.93461214]),\n",
       " 'test_mae': array([0.73788979, 0.73589561, 0.73677073, 0.74022763, 0.73590098]),\n",
       " 'fit_time': (0.6070001125335693,\n",
       "  0.6930007934570312,\n",
       "  0.6330020427703857,\n",
       "  0.5659980773925781,\n",
       "  0.570000171661377),\n",
       " 'test_time': (0.09299826622009277,\n",
       "  0.0950009822845459,\n",
       "  0.1680011749267578,\n",
       "  0.08699965476989746,\n",
       "  0.08699989318847656)}"
      ]
     },
     "execution_count": 7,
     "metadata": {},
     "output_type": "execute_result"
    }
   ],
   "source": [
    "data = Dataset.load_builtin(name='ml-100k', prompt=False)\n",
    "\n",
    "algo = SVD()\n",
    "\n",
    "cross_validate(algo, data, measures=['RMSE', 'MAE'], cv=5, verbose=True)"
   ]
  },
  {
   "cell_type": "code",
   "execution_count": 12,
   "id": "6f0e8844-3357-4022-8412-cc371a22371b",
   "metadata": {},
   "outputs": [
    {
     "name": "stdout",
     "output_type": "stream",
     "text": [
      "Evaluating RMSE, MAE of algorithm SVDpp on 5 split(s).\n",
      "\n",
      "                  Fold 1  Fold 2  Fold 3  Fold 4  Fold 5  Mean    Std     \n",
      "RMSE (testset)    0.9237  0.9260  0.9108  0.9248  0.9130  0.9197  0.0064  \n",
      "MAE (testset)     0.7250  0.7273  0.7134  0.7241  0.7158  0.7211  0.0055  \n",
      "Fit time          11.39   11.39   11.37   11.32   11.31   11.36   0.04    \n",
      "Test time         2.43    2.47    2.36    2.59    2.38    2.44    0.08    \n"
     ]
    },
    {
     "data": {
      "text/plain": [
       "{'test_rmse': array([0.92371132, 0.9260162 , 0.91084645, 0.92477066, 0.91298277]),\n",
       " 'test_mae': array([0.72495925, 0.7272589 , 0.71343725, 0.72406532, 0.71578842]),\n",
       " 'fit_time': (11.392723321914673,\n",
       "  11.39399790763855,\n",
       "  11.374999761581421,\n",
       "  11.321999788284302,\n",
       "  11.312182664871216),\n",
       " 'test_time': (2.4269988536834717,\n",
       "  2.465074300765991,\n",
       "  2.3550000190734863,\n",
       "  2.5860002040863037,\n",
       "  2.378000259399414)}"
      ]
     },
     "execution_count": 12,
     "metadata": {},
     "output_type": "execute_result"
    }
   ],
   "source": [
    "from surprise import SVDpp\n",
    "\n",
    "algo = SVDpp()\n",
    "\n",
    "cross_validate(algo, data, measures=['RMSE', 'MAE'], cv=5, verbose=True)"
   ]
  },
  {
   "cell_type": "code",
   "execution_count": 13,
   "id": "4254f4ff-f212-4dfa-b9bb-6ae7c9aba928",
   "metadata": {},
   "outputs": [
    {
     "name": "stdout",
     "output_type": "stream",
     "text": [
      "Evaluating RMSE, MAE of algorithm NMF on 5 split(s).\n",
      "\n",
      "                  Fold 1  Fold 2  Fold 3  Fold 4  Fold 5  Mean    Std     \n",
      "RMSE (testset)    0.9625  0.9591  0.9561  0.9643  0.9619  0.9608  0.0029  \n",
      "MAE (testset)     0.7574  0.7549  0.7502  0.7591  0.7586  0.7560  0.0032  \n",
      "Fit time          0.94    0.84    0.91    0.95    0.83    0.90    0.05    \n",
      "Test time         0.08    0.17    0.08    0.08    0.08    0.10    0.04    \n"
     ]
    },
    {
     "data": {
      "text/plain": [
       "{'test_rmse': array([0.962506  , 0.95910396, 0.95610141, 0.96433909, 0.96189514]),\n",
       " 'test_mae': array([0.7573646 , 0.7548705 , 0.75024308, 0.75905923, 0.75856893]),\n",
       " 'fit_time': (0.9419999122619629,\n",
       "  0.8409998416900635,\n",
       "  0.9149999618530273,\n",
       "  0.9479997158050537,\n",
       "  0.8340623378753662),\n",
       " 'test_time': (0.07599997520446777,\n",
       "  0.1660001277923584,\n",
       "  0.07800102233886719,\n",
       "  0.07899975776672363,\n",
       "  0.07700085639953613)}"
      ]
     },
     "execution_count": 13,
     "metadata": {},
     "output_type": "execute_result"
    }
   ],
   "source": [
    "from surprise import NMF\n",
    "\n",
    "algo = NMF()\n",
    "\n",
    "cross_validate(algo, data, measures=['RMSE', 'MAE'], cv=5, verbose=True)"
   ]
  },
  {
   "cell_type": "markdown",
   "id": "24123aa0-78c2-4631-b5a1-704e4cd0af43",
   "metadata": {},
   "source": [
    "# As we can see the best results in terms of speed and accuracy show the NMF algorythm.\n",
    "## At the same the slowest and least accurate was SVD++\n"
   ]
  },
  {
   "cell_type": "markdown",
   "id": "9f01e14a-5a71-41a0-924d-b5bead80e046",
   "metadata": {},
   "source": [
    "# Let's train our model based on NMF algorythm"
   ]
  },
  {
   "cell_type": "code",
   "execution_count": 16,
   "id": "d13e3ce5-3523-41a1-b5e9-53612400c064",
   "metadata": {},
   "outputs": [
    {
     "name": "stdout",
     "output_type": "stream",
     "text": [
      "RMSE: 0.9705\n"
     ]
    },
    {
     "data": {
      "text/plain": [
       "0.9705127241366189"
      ]
     },
     "execution_count": 16,
     "metadata": {},
     "output_type": "execute_result"
    }
   ],
   "source": [
    "from surprise import accuracy\n",
    "from surprise.model_selection import train_test_split\n",
    "\n",
    "trainset, testset = train_test_split(data, test_size=.25)\n",
    "\n",
    "algo = NMF()\n",
    "\n",
    "algo.fit(trainset)\n",
    "predictions = algo.test(testset)\n",
    "\n",
    "accuracy.rmse(predictions)"
   ]
  },
  {
   "cell_type": "markdown",
   "id": "daf29766-88fd-4e4f-9581-08948dd48700",
   "metadata": {},
   "source": [
    "## Our model is trained and shows reasonable results"
   ]
  }
 ],
 "metadata": {
  "kernelspec": {
   "display_name": "Python 3 (ipykernel)",
   "language": "python",
   "name": "python3"
  },
  "language_info": {
   "codemirror_mode": {
    "name": "ipython",
    "version": 3
   },
   "file_extension": ".py",
   "mimetype": "text/x-python",
   "name": "python",
   "nbconvert_exporter": "python",
   "pygments_lexer": "ipython3",
   "version": "3.10.13"
  }
 },
 "nbformat": 4,
 "nbformat_minor": 5
}
